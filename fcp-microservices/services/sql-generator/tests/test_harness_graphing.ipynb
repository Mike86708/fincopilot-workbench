{
 "cells": [
  {
   "cell_type": "code",
   "execution_count": 22,
   "metadata": {},
   "outputs": [],
   "source": [
    "import plotly.express as px\n",
    "from database_utils import *\n",
    "\n",
    "iteration_count = 10 "
   ]
  },
  {
   "cell_type": "code",
   "execution_count": 2,
   "metadata": {},
   "outputs": [],
   "source": [
    "# Read the testing results from the snowflake table\n",
    "connect_to_snowflake()\n",
    "results = read_from_database('FINCOPILOT_QA.DEV_TESTING.FINAL_OUTPUT_ITERATIONS')\n",
    "prompts = read_from_database('FINCOPILOT_QA.DEV_TESTING.MASTER_USER_PROMPTS')\n",
    "prompts.index = prompts['PROMPT_ID']\n",
    "prompts.drop(columns=['PROMPT_ID'], inplace=True)\n",
    "\n",
    "disconnect_from_snowflake()"
   ]
  },
  {
   "cell_type": "code",
   "execution_count": 7,
   "metadata": {},
   "outputs": [
    {
     "data": {
      "text/html": [
       "<div>\n",
       "<style scoped>\n",
       "    .dataframe tbody tr th:only-of-type {\n",
       "        vertical-align: middle;\n",
       "    }\n",
       "\n",
       "    .dataframe tbody tr th {\n",
       "        vertical-align: top;\n",
       "    }\n",
       "\n",
       "    .dataframe thead th {\n",
       "        text-align: right;\n",
       "    }\n",
       "</style>\n",
       "<table border=\"1\" class=\"dataframe\">\n",
       "  <thead>\n",
       "    <tr style=\"text-align: right;\">\n",
       "      <th></th>\n",
       "      <th>PROMPT_TEMPLATE_ID</th>\n",
       "      <th>PROMPT_ID</th>\n",
       "      <th>ITER_NUM</th>\n",
       "      <th>RUN_DATE_TIME</th>\n",
       "      <th>GOLDEN_SQL</th>\n",
       "      <th>LLM_GEN_SQL</th>\n",
       "      <th>LLM_GEN_SQL_EXECUTABLE</th>\n",
       "      <th>GOLDEN_COLS</th>\n",
       "      <th>LLM_GEN_COLS</th>\n",
       "      <th>GOLDEN_ROW_COUNT</th>\n",
       "      <th>LLM_ROW_COUNT</th>\n",
       "      <th>GOLDEN_COLUMN_COUNT</th>\n",
       "      <th>LLM_COLUMN_COUNT</th>\n",
       "      <th>ROW_COUNT_MATCHED</th>\n",
       "      <th>COL_COUNT_MATCHED</th>\n",
       "      <th>DATA_MATCHED</th>\n",
       "      <th>COLS_IN_GOLDEN_NOT_IN_LLM</th>\n",
       "      <th>COMMON_COLUMNS</th>\n",
       "      <th>GENERATED_DATE</th>\n",
       "    </tr>\n",
       "  </thead>\n",
       "  <tbody>\n",
       "    <tr>\n",
       "      <th>0</th>\n",
       "      <td>9</td>\n",
       "      <td>PRMT_00009</td>\n",
       "      <td>1</td>\n",
       "      <td>20240912164948</td>\n",
       "      <td>SELECT total_overdue_amount FROM (SELECT   ds....</td>\n",
       "      <td>SELECT total_overdue_amount FROM (SELECT      ...</td>\n",
       "      <td>True</td>\n",
       "      <td>subsidiary_name,total_overdue_amount</td>\n",
       "      <td>total_overdue_amount</td>\n",
       "      <td>0</td>\n",
       "      <td>0</td>\n",
       "      <td>2</td>\n",
       "      <td>1</td>\n",
       "      <td>True</td>\n",
       "      <td>False</td>\n",
       "      <td>True</td>\n",
       "      <td>subsidiary_name</td>\n",
       "      <td>total_overdue_amount</td>\n",
       "      <td>2024-09-12</td>\n",
       "    </tr>\n",
       "    <tr>\n",
       "      <th>1</th>\n",
       "      <td>9</td>\n",
       "      <td>PRMT_00009</td>\n",
       "      <td>2</td>\n",
       "      <td>20240912164948</td>\n",
       "      <td>SELECT total_overdue_amount FROM (SELECT   ds....</td>\n",
       "      <td>SELECT total_overdue_amount FROM (SELECT      ...</td>\n",
       "      <td>True</td>\n",
       "      <td>subsidiary_name,total_overdue_amount</td>\n",
       "      <td>total_overdue_amount</td>\n",
       "      <td>0</td>\n",
       "      <td>0</td>\n",
       "      <td>2</td>\n",
       "      <td>1</td>\n",
       "      <td>True</td>\n",
       "      <td>False</td>\n",
       "      <td>True</td>\n",
       "      <td>subsidiary_name</td>\n",
       "      <td>total_overdue_amount</td>\n",
       "      <td>2024-09-12</td>\n",
       "    </tr>\n",
       "    <tr>\n",
       "      <th>2</th>\n",
       "      <td>9</td>\n",
       "      <td>PRMT_00009</td>\n",
       "      <td>3</td>\n",
       "      <td>20240912164948</td>\n",
       "      <td>SELECT total_overdue_amount FROM (SELECT   ds....</td>\n",
       "      <td>SELECT total_overdue_amount FROM (SELECT      ...</td>\n",
       "      <td>True</td>\n",
       "      <td>subsidiary_name,total_overdue_amount</td>\n",
       "      <td>total_overdue_amount</td>\n",
       "      <td>0</td>\n",
       "      <td>0</td>\n",
       "      <td>2</td>\n",
       "      <td>1</td>\n",
       "      <td>True</td>\n",
       "      <td>False</td>\n",
       "      <td>True</td>\n",
       "      <td>subsidiary_name</td>\n",
       "      <td>total_overdue_amount</td>\n",
       "      <td>2024-09-12</td>\n",
       "    </tr>\n",
       "    <tr>\n",
       "      <th>3</th>\n",
       "      <td>9</td>\n",
       "      <td>PRMT_00009</td>\n",
       "      <td>4</td>\n",
       "      <td>20240912164948</td>\n",
       "      <td>SELECT total_overdue_amount FROM (SELECT   ds....</td>\n",
       "      <td>SELECT total_overdue_amount FROM (SELECT      ...</td>\n",
       "      <td>True</td>\n",
       "      <td>subsidiary_name,total_overdue_amount</td>\n",
       "      <td>total_overdue_amount</td>\n",
       "      <td>0</td>\n",
       "      <td>0</td>\n",
       "      <td>2</td>\n",
       "      <td>1</td>\n",
       "      <td>True</td>\n",
       "      <td>False</td>\n",
       "      <td>True</td>\n",
       "      <td>subsidiary_name</td>\n",
       "      <td>total_overdue_amount</td>\n",
       "      <td>2024-09-12</td>\n",
       "    </tr>\n",
       "    <tr>\n",
       "      <th>4</th>\n",
       "      <td>9</td>\n",
       "      <td>PRMT_00009</td>\n",
       "      <td>5</td>\n",
       "      <td>20240912164948</td>\n",
       "      <td>SELECT total_overdue_amount FROM (SELECT   ds....</td>\n",
       "      <td>SELECT total_overdue_amount FROM (SELECT      ...</td>\n",
       "      <td>True</td>\n",
       "      <td>subsidiary_name,total_overdue_amount</td>\n",
       "      <td>total_overdue_amount</td>\n",
       "      <td>0</td>\n",
       "      <td>0</td>\n",
       "      <td>2</td>\n",
       "      <td>1</td>\n",
       "      <td>True</td>\n",
       "      <td>False</td>\n",
       "      <td>True</td>\n",
       "      <td>subsidiary_name</td>\n",
       "      <td>total_overdue_amount</td>\n",
       "      <td>2024-09-12</td>\n",
       "    </tr>\n",
       "    <tr>\n",
       "      <th>...</th>\n",
       "      <td>...</td>\n",
       "      <td>...</td>\n",
       "      <td>...</td>\n",
       "      <td>...</td>\n",
       "      <td>...</td>\n",
       "      <td>...</td>\n",
       "      <td>...</td>\n",
       "      <td>...</td>\n",
       "      <td>...</td>\n",
       "      <td>...</td>\n",
       "      <td>...</td>\n",
       "      <td>...</td>\n",
       "      <td>...</td>\n",
       "      <td>...</td>\n",
       "      <td>...</td>\n",
       "      <td>...</td>\n",
       "      <td>...</td>\n",
       "      <td>...</td>\n",
       "      <td>...</td>\n",
       "    </tr>\n",
       "    <tr>\n",
       "      <th>405</th>\n",
       "      <td>235</td>\n",
       "      <td>PRMT_00235</td>\n",
       "      <td>6</td>\n",
       "      <td>20240912164948</td>\n",
       "      <td>SELECT total_invoices FROM (SELECT      COUNT(...</td>\n",
       "      <td>SELECT total_invoices FROM (SELECT      COUNT(...</td>\n",
       "      <td>True</td>\n",
       "      <td>total_invoices</td>\n",
       "      <td>total_invoices</td>\n",
       "      <td>0</td>\n",
       "      <td>0</td>\n",
       "      <td>1</td>\n",
       "      <td>1</td>\n",
       "      <td>True</td>\n",
       "      <td>True</td>\n",
       "      <td>True</td>\n",
       "      <td>None</td>\n",
       "      <td>total_invoices</td>\n",
       "      <td>2024-09-12</td>\n",
       "    </tr>\n",
       "    <tr>\n",
       "      <th>406</th>\n",
       "      <td>235</td>\n",
       "      <td>PRMT_00235</td>\n",
       "      <td>7</td>\n",
       "      <td>20240912164948</td>\n",
       "      <td>SELECT total_invoices FROM (SELECT      COUNT(...</td>\n",
       "      <td>SELECT total_invoices FROM (SELECT      COUNT(...</td>\n",
       "      <td>True</td>\n",
       "      <td>total_invoices</td>\n",
       "      <td>total_invoices</td>\n",
       "      <td>0</td>\n",
       "      <td>0</td>\n",
       "      <td>1</td>\n",
       "      <td>1</td>\n",
       "      <td>True</td>\n",
       "      <td>True</td>\n",
       "      <td>True</td>\n",
       "      <td>None</td>\n",
       "      <td>total_invoices</td>\n",
       "      <td>2024-09-12</td>\n",
       "    </tr>\n",
       "    <tr>\n",
       "      <th>407</th>\n",
       "      <td>235</td>\n",
       "      <td>PRMT_00235</td>\n",
       "      <td>8</td>\n",
       "      <td>20240912164948</td>\n",
       "      <td>SELECT total_invoices FROM (SELECT      COUNT(...</td>\n",
       "      <td>SELECT total_invoices FROM (WITH last_month AS...</td>\n",
       "      <td>True</td>\n",
       "      <td>total_invoices</td>\n",
       "      <td>total_invoices</td>\n",
       "      <td>0</td>\n",
       "      <td>0</td>\n",
       "      <td>1</td>\n",
       "      <td>1</td>\n",
       "      <td>True</td>\n",
       "      <td>True</td>\n",
       "      <td>True</td>\n",
       "      <td>None</td>\n",
       "      <td>total_invoices</td>\n",
       "      <td>2024-09-12</td>\n",
       "    </tr>\n",
       "    <tr>\n",
       "      <th>408</th>\n",
       "      <td>235</td>\n",
       "      <td>PRMT_00235</td>\n",
       "      <td>9</td>\n",
       "      <td>20240912164948</td>\n",
       "      <td>SELECT total_invoices FROM (SELECT      COUNT(...</td>\n",
       "      <td>SELECT total_invoices FROM (SELECT      COUNT(...</td>\n",
       "      <td>True</td>\n",
       "      <td>total_invoices</td>\n",
       "      <td>total_invoices</td>\n",
       "      <td>0</td>\n",
       "      <td>0</td>\n",
       "      <td>1</td>\n",
       "      <td>1</td>\n",
       "      <td>True</td>\n",
       "      <td>True</td>\n",
       "      <td>True</td>\n",
       "      <td>None</td>\n",
       "      <td>total_invoices</td>\n",
       "      <td>2024-09-12</td>\n",
       "    </tr>\n",
       "    <tr>\n",
       "      <th>409</th>\n",
       "      <td>235</td>\n",
       "      <td>PRMT_00235</td>\n",
       "      <td>10</td>\n",
       "      <td>20240912164948</td>\n",
       "      <td>SELECT total_invoices FROM (SELECT      COUNT(...</td>\n",
       "      <td>SELECT total_invoices FROM (WITH last_month AS...</td>\n",
       "      <td>True</td>\n",
       "      <td>total_invoices</td>\n",
       "      <td>total_invoices</td>\n",
       "      <td>0</td>\n",
       "      <td>0</td>\n",
       "      <td>1</td>\n",
       "      <td>1</td>\n",
       "      <td>True</td>\n",
       "      <td>True</td>\n",
       "      <td>True</td>\n",
       "      <td>None</td>\n",
       "      <td>total_invoices</td>\n",
       "      <td>2024-09-12</td>\n",
       "    </tr>\n",
       "  </tbody>\n",
       "</table>\n",
       "<p>410 rows × 19 columns</p>\n",
       "</div>"
      ],
      "text/plain": [
       "    PROMPT_TEMPLATE_ID   PROMPT_ID  ITER_NUM   RUN_DATE_TIME  \\\n",
       "0                    9  PRMT_00009         1  20240912164948   \n",
       "1                    9  PRMT_00009         2  20240912164948   \n",
       "2                    9  PRMT_00009         3  20240912164948   \n",
       "3                    9  PRMT_00009         4  20240912164948   \n",
       "4                    9  PRMT_00009         5  20240912164948   \n",
       "..                 ...         ...       ...             ...   \n",
       "405                235  PRMT_00235         6  20240912164948   \n",
       "406                235  PRMT_00235         7  20240912164948   \n",
       "407                235  PRMT_00235         8  20240912164948   \n",
       "408                235  PRMT_00235         9  20240912164948   \n",
       "409                235  PRMT_00235        10  20240912164948   \n",
       "\n",
       "                                            GOLDEN_SQL  \\\n",
       "0    SELECT total_overdue_amount FROM (SELECT   ds....   \n",
       "1    SELECT total_overdue_amount FROM (SELECT   ds....   \n",
       "2    SELECT total_overdue_amount FROM (SELECT   ds....   \n",
       "3    SELECT total_overdue_amount FROM (SELECT   ds....   \n",
       "4    SELECT total_overdue_amount FROM (SELECT   ds....   \n",
       "..                                                 ...   \n",
       "405  SELECT total_invoices FROM (SELECT      COUNT(...   \n",
       "406  SELECT total_invoices FROM (SELECT      COUNT(...   \n",
       "407  SELECT total_invoices FROM (SELECT      COUNT(...   \n",
       "408  SELECT total_invoices FROM (SELECT      COUNT(...   \n",
       "409  SELECT total_invoices FROM (SELECT      COUNT(...   \n",
       "\n",
       "                                           LLM_GEN_SQL  \\\n",
       "0    SELECT total_overdue_amount FROM (SELECT      ...   \n",
       "1    SELECT total_overdue_amount FROM (SELECT      ...   \n",
       "2    SELECT total_overdue_amount FROM (SELECT      ...   \n",
       "3    SELECT total_overdue_amount FROM (SELECT      ...   \n",
       "4    SELECT total_overdue_amount FROM (SELECT      ...   \n",
       "..                                                 ...   \n",
       "405  SELECT total_invoices FROM (SELECT      COUNT(...   \n",
       "406  SELECT total_invoices FROM (SELECT      COUNT(...   \n",
       "407  SELECT total_invoices FROM (WITH last_month AS...   \n",
       "408  SELECT total_invoices FROM (SELECT      COUNT(...   \n",
       "409  SELECT total_invoices FROM (WITH last_month AS...   \n",
       "\n",
       "     LLM_GEN_SQL_EXECUTABLE                           GOLDEN_COLS  \\\n",
       "0                      True  subsidiary_name,total_overdue_amount   \n",
       "1                      True  subsidiary_name,total_overdue_amount   \n",
       "2                      True  subsidiary_name,total_overdue_amount   \n",
       "3                      True  subsidiary_name,total_overdue_amount   \n",
       "4                      True  subsidiary_name,total_overdue_amount   \n",
       "..                      ...                                   ...   \n",
       "405                    True                        total_invoices   \n",
       "406                    True                        total_invoices   \n",
       "407                    True                        total_invoices   \n",
       "408                    True                        total_invoices   \n",
       "409                    True                        total_invoices   \n",
       "\n",
       "             LLM_GEN_COLS  GOLDEN_ROW_COUNT  LLM_ROW_COUNT  \\\n",
       "0    total_overdue_amount                 0              0   \n",
       "1    total_overdue_amount                 0              0   \n",
       "2    total_overdue_amount                 0              0   \n",
       "3    total_overdue_amount                 0              0   \n",
       "4    total_overdue_amount                 0              0   \n",
       "..                    ...               ...            ...   \n",
       "405        total_invoices                 0              0   \n",
       "406        total_invoices                 0              0   \n",
       "407        total_invoices                 0              0   \n",
       "408        total_invoices                 0              0   \n",
       "409        total_invoices                 0              0   \n",
       "\n",
       "     GOLDEN_COLUMN_COUNT  LLM_COLUMN_COUNT  ROW_COUNT_MATCHED  \\\n",
       "0                      2                 1               True   \n",
       "1                      2                 1               True   \n",
       "2                      2                 1               True   \n",
       "3                      2                 1               True   \n",
       "4                      2                 1               True   \n",
       "..                   ...               ...                ...   \n",
       "405                    1                 1               True   \n",
       "406                    1                 1               True   \n",
       "407                    1                 1               True   \n",
       "408                    1                 1               True   \n",
       "409                    1                 1               True   \n",
       "\n",
       "     COL_COUNT_MATCHED  DATA_MATCHED COLS_IN_GOLDEN_NOT_IN_LLM  \\\n",
       "0                False          True           subsidiary_name   \n",
       "1                False          True           subsidiary_name   \n",
       "2                False          True           subsidiary_name   \n",
       "3                False          True           subsidiary_name   \n",
       "4                False          True           subsidiary_name   \n",
       "..                 ...           ...                       ...   \n",
       "405               True          True                      None   \n",
       "406               True          True                      None   \n",
       "407               True          True                      None   \n",
       "408               True          True                      None   \n",
       "409               True          True                      None   \n",
       "\n",
       "           COMMON_COLUMNS GENERATED_DATE  \n",
       "0    total_overdue_amount     2024-09-12  \n",
       "1    total_overdue_amount     2024-09-12  \n",
       "2    total_overdue_amount     2024-09-12  \n",
       "3    total_overdue_amount     2024-09-12  \n",
       "4    total_overdue_amount     2024-09-12  \n",
       "..                    ...            ...  \n",
       "405        total_invoices     2024-09-12  \n",
       "406        total_invoices     2024-09-12  \n",
       "407        total_invoices     2024-09-12  \n",
       "408        total_invoices     2024-09-12  \n",
       "409        total_invoices     2024-09-12  \n",
       "\n",
       "[410 rows x 19 columns]"
      ]
     },
     "execution_count": 7,
     "metadata": {},
     "output_type": "execute_result"
    }
   ],
   "source": [
    "results"
   ]
  },
  {
   "cell_type": "code",
   "execution_count": 28,
   "metadata": {},
   "outputs": [
    {
     "data": {
      "text/html": [
       "<div>\n",
       "<style scoped>\n",
       "    .dataframe tbody tr th:only-of-type {\n",
       "        vertical-align: middle;\n",
       "    }\n",
       "\n",
       "    .dataframe tbody tr th {\n",
       "        vertical-align: top;\n",
       "    }\n",
       "\n",
       "    .dataframe thead th {\n",
       "        text-align: right;\n",
       "    }\n",
       "</style>\n",
       "<table border=\"1\" class=\"dataframe\">\n",
       "  <thead>\n",
       "    <tr style=\"text-align: right;\">\n",
       "      <th></th>\n",
       "      <th>ROW_COUNT_MATCHED</th>\n",
       "      <th>COL_COUNT_MATCHED</th>\n",
       "      <th>DATA_MATCHED</th>\n",
       "      <th>LLM_GEN_SQL</th>\n",
       "      <th>GOLDEN_SQL</th>\n",
       "    </tr>\n",
       "    <tr>\n",
       "      <th>PROMPT_ID</th>\n",
       "      <th></th>\n",
       "      <th></th>\n",
       "      <th></th>\n",
       "      <th></th>\n",
       "      <th></th>\n",
       "    </tr>\n",
       "  </thead>\n",
       "  <tbody>\n",
       "    <tr>\n",
       "      <th>PRMT_00009</th>\n",
       "      <td>10</td>\n",
       "      <td>0</td>\n",
       "      <td>10</td>\n",
       "      <td>SELECT total_overdue_amount FROM (SELECT      ...</td>\n",
       "      <td>SELECT total_overdue_amount FROM (SELECT   ds....</td>\n",
       "    </tr>\n",
       "    <tr>\n",
       "      <th>PRMT_00010</th>\n",
       "      <td>10</td>\n",
       "      <td>10</td>\n",
       "      <td>10</td>\n",
       "      <td>SELECT brand, total_invoiced_amount FROM (SELE...</td>\n",
       "      <td>SELECT brand, total_invoiced_amount FROM (SELE...</td>\n",
       "    </tr>\n",
       "    <tr>\n",
       "      <th>PRMT_00011</th>\n",
       "      <td>10</td>\n",
       "      <td>0</td>\n",
       "      <td>10</td>\n",
       "      <td>SELECT invoice_due_amount, invoice_due_date, i...</td>\n",
       "      <td>SELECT invoice_due_amount, invoice_due_date, i...</td>\n",
       "    </tr>\n",
       "    <tr>\n",
       "      <th>PRMT_00013</th>\n",
       "      <td>1</td>\n",
       "      <td>1</td>\n",
       "      <td>1</td>\n",
       "      <td>SELECT invoice_aging_bucket, subsidiary_name F...</td>\n",
       "      <td>SELECT invoice_aging_bucket, subsidiary_name F...</td>\n",
       "    </tr>\n",
       "    <tr>\n",
       "      <th>PRMT_00016</th>\n",
       "      <td>10</td>\n",
       "      <td>0</td>\n",
       "      <td>10</td>\n",
       "      <td>SELECT total_overdue_amount FROM (SELECT      ...</td>\n",
       "      <td>SELECT total_overdue_amount FROM (WITH last_qu...</td>\n",
       "    </tr>\n",
       "    <tr>\n",
       "      <th>PRMT_00017</th>\n",
       "      <td>10</td>\n",
       "      <td>1</td>\n",
       "      <td>9</td>\n",
       "      <td>SELECT      ai.INVOICE_NUMBER,     ai.INVOICE_...</td>\n",
       "      <td>SELECT  ac.customer_name,    ai.INVOICE_NUMBER...</td>\n",
       "    </tr>\n",
       "    <tr>\n",
       "      <th>PRMT_00020</th>\n",
       "      <td>10</td>\n",
       "      <td>3</td>\n",
       "      <td>10</td>\n",
       "      <td>SELECT invoice_aging_bucket, invoice_due_amoun...</td>\n",
       "      <td>SELECT invoice_aging_bucket, invoice_due_amoun...</td>\n",
       "    </tr>\n",
       "    <tr>\n",
       "      <th>PRMT_00021</th>\n",
       "      <td>10</td>\n",
       "      <td>4</td>\n",
       "      <td>10</td>\n",
       "      <td>SELECT invoice_aging_in_days, invoice_due_amou...</td>\n",
       "      <td>SELECT invoice_aging_in_days, invoice_due_amou...</td>\n",
       "    </tr>\n",
       "    <tr>\n",
       "      <th>PRMT_00027</th>\n",
       "      <td>10</td>\n",
       "      <td>10</td>\n",
       "      <td>10</td>\n",
       "      <td>SELECT total_payments_received FROM (SELECT   ...</td>\n",
       "      <td>SELECT total_payments_received FROM (SELECT SU...</td>\n",
       "    </tr>\n",
       "    <tr>\n",
       "      <th>PRMT_00030</th>\n",
       "      <td>1</td>\n",
       "      <td>5</td>\n",
       "      <td>1</td>\n",
       "      <td>SELECT invoice_due_amount, invoice_due_date, i...</td>\n",
       "      <td>SELECT invoice_due_amount, invoice_due_date, i...</td>\n",
       "    </tr>\n",
       "    <tr>\n",
       "      <th>PRMT_00031</th>\n",
       "      <td>10</td>\n",
       "      <td>0</td>\n",
       "      <td>10</td>\n",
       "      <td>SELECT      SUM(AR.CREDIT_MEMO_APPLIED_AMOUNT)...</td>\n",
       "      <td>WITH current_quarter AS (     SELECT          ...</td>\n",
       "    </tr>\n",
       "    <tr>\n",
       "      <th>PRMT_00033</th>\n",
       "      <td>10</td>\n",
       "      <td>0</td>\n",
       "      <td>10</td>\n",
       "      <td>SELECT arsd_ticket_number, invoice_memo FROM (...</td>\n",
       "      <td>SELECT arsd_ticket_number, invoice_memo FROM (...</td>\n",
       "    </tr>\n",
       "    <tr>\n",
       "      <th>PRMT_00044</th>\n",
       "      <td>0</td>\n",
       "      <td>1</td>\n",
       "      <td>0</td>\n",
       "      <td>SELECT invoice_due_amount, invoice_due_date, i...</td>\n",
       "      <td>SELECT invoice_due_amount, invoice_due_date, i...</td>\n",
       "    </tr>\n",
       "    <tr>\n",
       "      <th>PRMT_00045</th>\n",
       "      <td>10</td>\n",
       "      <td>0</td>\n",
       "      <td>10</td>\n",
       "      <td>SELECT total_payments_received FROM (WITH last...</td>\n",
       "      <td>SELECT total_payments_received FROM (WITH last...</td>\n",
       "    </tr>\n",
       "    <tr>\n",
       "      <th>PRMT_00046</th>\n",
       "      <td>10</td>\n",
       "      <td>0</td>\n",
       "      <td>10</td>\n",
       "      <td>SELECT invoice_due_date, invoice_number, invoi...</td>\n",
       "      <td>SELECT invoice_due_date, invoice_number, invoi...</td>\n",
       "    </tr>\n",
       "    <tr>\n",
       "      <th>PRMT_00047</th>\n",
       "      <td>10</td>\n",
       "      <td>0</td>\n",
       "      <td>10</td>\n",
       "      <td>SELECT invoice_memo FROM (SELECT      ai.INVOI...</td>\n",
       "      <td>SELECT invoice_memo FROM (SELECT   ac.BRAND,  ...</td>\n",
       "    </tr>\n",
       "    <tr>\n",
       "      <th>PRMT_00050</th>\n",
       "      <td>10</td>\n",
       "      <td>0</td>\n",
       "      <td>10</td>\n",
       "      <td>SELECT total_payments_received FROM (SELECT   ...</td>\n",
       "      <td>SELECT total_payments_received FROM (WITH last...</td>\n",
       "    </tr>\n",
       "    <tr>\n",
       "      <th>PRMT_00052</th>\n",
       "      <td>10</td>\n",
       "      <td>0</td>\n",
       "      <td>10</td>\n",
       "      <td>SELECT      SUM(AI.CREDIT_MEMO_APPLIED_AMOUNT)...</td>\n",
       "      <td>WITH last_quarter AS (     SELECT          DAT...</td>\n",
       "    </tr>\n",
       "    <tr>\n",
       "      <th>PRMT_00053</th>\n",
       "      <td>10</td>\n",
       "      <td>0</td>\n",
       "      <td>10</td>\n",
       "      <td>SELECT      SUM(ai.CREDIT_MEMO_APPLIED_AMOUNT)...</td>\n",
       "      <td>SELECT     ac.BRAND, SUM(ai.INVOICE_MEMO) AS t...</td>\n",
       "    </tr>\n",
       "    <tr>\n",
       "      <th>PRMT_00056</th>\n",
       "      <td>6</td>\n",
       "      <td>5</td>\n",
       "      <td>6</td>\n",
       "      <td>SELECT customer_name, invoice_due_amount, invo...</td>\n",
       "      <td>SELECT customer_name, invoice_due_amount, invo...</td>\n",
       "    </tr>\n",
       "    <tr>\n",
       "      <th>PRMT_00059</th>\n",
       "      <td>10</td>\n",
       "      <td>0</td>\n",
       "      <td>10</td>\n",
       "      <td>SELECT invoice_aging_bucket, invoice_due_amoun...</td>\n",
       "      <td>SELECT invoice_aging_bucket, invoice_due_amoun...</td>\n",
       "    </tr>\n",
       "    <tr>\n",
       "      <th>PRMT_00061</th>\n",
       "      <td>10</td>\n",
       "      <td>0</td>\n",
       "      <td>10</td>\n",
       "      <td>SELECT invoice_due_amount, invoice_due_date, i...</td>\n",
       "      <td>SELECT invoice_due_amount, invoice_due_date, i...</td>\n",
       "    </tr>\n",
       "    <tr>\n",
       "      <th>PRMT_00064</th>\n",
       "      <td>10</td>\n",
       "      <td>1</td>\n",
       "      <td>10</td>\n",
       "      <td>SELECT invoice_due_amount, invoice_due_date, i...</td>\n",
       "      <td>SELECT invoice_due_amount, invoice_due_date, i...</td>\n",
       "    </tr>\n",
       "    <tr>\n",
       "      <th>PRMT_00085</th>\n",
       "      <td>10</td>\n",
       "      <td>8</td>\n",
       "      <td>10</td>\n",
       "      <td>SELECT credit_memo_applied_amount, invoice_tra...</td>\n",
       "      <td>SELECT credit_memo_applied_amount, invoice_tra...</td>\n",
       "    </tr>\n",
       "    <tr>\n",
       "      <th>PRMT_00087</th>\n",
       "      <td>10</td>\n",
       "      <td>0</td>\n",
       "      <td>10</td>\n",
       "      <td>SELECT invoice_due_amount, invoice_due_date, i...</td>\n",
       "      <td>SELECT invoice_due_amount, invoice_due_date, i...</td>\n",
       "    </tr>\n",
       "    <tr>\n",
       "      <th>PRMT_00089</th>\n",
       "      <td>10</td>\n",
       "      <td>1</td>\n",
       "      <td>10</td>\n",
       "      <td>SELECT invoice_number, invoice_transaction_dat...</td>\n",
       "      <td>SELECT invoice_number, invoice_transaction_dat...</td>\n",
       "    </tr>\n",
       "    <tr>\n",
       "      <th>PRMT_00092</th>\n",
       "      <td>10</td>\n",
       "      <td>4</td>\n",
       "      <td>10</td>\n",
       "      <td>SELECT invoice_due_date, invoice_number, invoi...</td>\n",
       "      <td>SELECT invoice_due_date, invoice_number, invoi...</td>\n",
       "    </tr>\n",
       "    <tr>\n",
       "      <th>PRMT_00094</th>\n",
       "      <td>10</td>\n",
       "      <td>2</td>\n",
       "      <td>10</td>\n",
       "      <td>SELECT credit_memo_applied_amount, invoice_due...</td>\n",
       "      <td>SELECT credit_memo_applied_amount, invoice_due...</td>\n",
       "    </tr>\n",
       "    <tr>\n",
       "      <th>PRMT_00103</th>\n",
       "      <td>10</td>\n",
       "      <td>6</td>\n",
       "      <td>10</td>\n",
       "      <td>SELECT invoice_due_amount, invoice_due_date, i...</td>\n",
       "      <td>SELECT invoice_due_amount, invoice_due_date, i...</td>\n",
       "    </tr>\n",
       "    <tr>\n",
       "      <th>PRMT_00108</th>\n",
       "      <td>10</td>\n",
       "      <td>0</td>\n",
       "      <td>10</td>\n",
       "      <td>SELECT invoice_aging_bucket, invoice_due_amoun...</td>\n",
       "      <td>SELECT invoice_aging_bucket, invoice_due_amoun...</td>\n",
       "    </tr>\n",
       "    <tr>\n",
       "      <th>PRMT_00121</th>\n",
       "      <td>10</td>\n",
       "      <td>0</td>\n",
       "      <td>10</td>\n",
       "      <td>SELECT invoice_due_amount, invoice_due_date, i...</td>\n",
       "      <td>SELECT invoice_due_amount, invoice_due_date, i...</td>\n",
       "    </tr>\n",
       "    <tr>\n",
       "      <th>PRMT_00156</th>\n",
       "      <td>10</td>\n",
       "      <td>4</td>\n",
       "      <td>10</td>\n",
       "      <td>SELECT brand, customer_name, invoice_due_amoun...</td>\n",
       "      <td>SELECT brand, customer_name, invoice_due_amoun...</td>\n",
       "    </tr>\n",
       "    <tr>\n",
       "      <th>PRMT_00167</th>\n",
       "      <td>10</td>\n",
       "      <td>0</td>\n",
       "      <td>10</td>\n",
       "      <td>SELECT dris_ticket_number, invoice_aging_bucke...</td>\n",
       "      <td>SELECT dris_ticket_number, invoice_aging_bucke...</td>\n",
       "    </tr>\n",
       "    <tr>\n",
       "      <th>PRMT_00177</th>\n",
       "      <td>10</td>\n",
       "      <td>4</td>\n",
       "      <td>10</td>\n",
       "      <td>SELECT customer_name, invoice_due_amount, invo...</td>\n",
       "      <td>SELECT customer_name, invoice_due_amount, invo...</td>\n",
       "    </tr>\n",
       "    <tr>\n",
       "      <th>PRMT_00183</th>\n",
       "      <td>10</td>\n",
       "      <td>3</td>\n",
       "      <td>10</td>\n",
       "      <td>SELECT invoice_aging_in_days, invoice_due_amou...</td>\n",
       "      <td>SELECT invoice_aging_in_days, invoice_due_amou...</td>\n",
       "    </tr>\n",
       "    <tr>\n",
       "      <th>PRMT_00195</th>\n",
       "      <td>10</td>\n",
       "      <td>1</td>\n",
       "      <td>10</td>\n",
       "      <td>SELECT invoice_aging_bucket, invoice_due_amoun...</td>\n",
       "      <td>SELECT invoice_aging_bucket, invoice_due_amoun...</td>\n",
       "    </tr>\n",
       "    <tr>\n",
       "      <th>PRMT_00207</th>\n",
       "      <td>10</td>\n",
       "      <td>6</td>\n",
       "      <td>10</td>\n",
       "      <td>SELECT customer_name, invoice_aging_bucket, in...</td>\n",
       "      <td>SELECT customer_name, invoice_aging_bucket, in...</td>\n",
       "    </tr>\n",
       "    <tr>\n",
       "      <th>PRMT_00214</th>\n",
       "      <td>10</td>\n",
       "      <td>2</td>\n",
       "      <td>10</td>\n",
       "      <td>SELECT customer_name, invoice_aging_bucket, in...</td>\n",
       "      <td>SELECT customer_name, invoice_aging_bucket, in...</td>\n",
       "    </tr>\n",
       "    <tr>\n",
       "      <th>PRMT_00220</th>\n",
       "      <td>10</td>\n",
       "      <td>0</td>\n",
       "      <td>10</td>\n",
       "      <td>SELECT total_invoiced_amount, total_payment_re...</td>\n",
       "      <td>SELECT total_invoiced_amount, total_payment_re...</td>\n",
       "    </tr>\n",
       "    <tr>\n",
       "      <th>PRMT_00221</th>\n",
       "      <td>10</td>\n",
       "      <td>10</td>\n",
       "      <td>10</td>\n",
       "      <td>SELECT      SUM(ai.PAYMENT_RECEIVED_AMOUNT) AS...</td>\n",
       "      <td>SELECT      SUM(ai.INVOICED_AMOUNT) AS total_i...</td>\n",
       "    </tr>\n",
       "    <tr>\n",
       "      <th>PRMT_00235</th>\n",
       "      <td>10</td>\n",
       "      <td>10</td>\n",
       "      <td>10</td>\n",
       "      <td>SELECT total_invoices FROM (SELECT      COUNT(...</td>\n",
       "      <td>SELECT total_invoices FROM (SELECT      COUNT(...</td>\n",
       "    </tr>\n",
       "  </tbody>\n",
       "</table>\n",
       "</div>"
      ],
      "text/plain": [
       "            ROW_COUNT_MATCHED  COL_COUNT_MATCHED  DATA_MATCHED  \\\n",
       "PROMPT_ID                                                        \n",
       "PRMT_00009                 10                  0            10   \n",
       "PRMT_00010                 10                 10            10   \n",
       "PRMT_00011                 10                  0            10   \n",
       "PRMT_00013                  1                  1             1   \n",
       "PRMT_00016                 10                  0            10   \n",
       "PRMT_00017                 10                  1             9   \n",
       "PRMT_00020                 10                  3            10   \n",
       "PRMT_00021                 10                  4            10   \n",
       "PRMT_00027                 10                 10            10   \n",
       "PRMT_00030                  1                  5             1   \n",
       "PRMT_00031                 10                  0            10   \n",
       "PRMT_00033                 10                  0            10   \n",
       "PRMT_00044                  0                  1             0   \n",
       "PRMT_00045                 10                  0            10   \n",
       "PRMT_00046                 10                  0            10   \n",
       "PRMT_00047                 10                  0            10   \n",
       "PRMT_00050                 10                  0            10   \n",
       "PRMT_00052                 10                  0            10   \n",
       "PRMT_00053                 10                  0            10   \n",
       "PRMT_00056                  6                  5             6   \n",
       "PRMT_00059                 10                  0            10   \n",
       "PRMT_00061                 10                  0            10   \n",
       "PRMT_00064                 10                  1            10   \n",
       "PRMT_00085                 10                  8            10   \n",
       "PRMT_00087                 10                  0            10   \n",
       "PRMT_00089                 10                  1            10   \n",
       "PRMT_00092                 10                  4            10   \n",
       "PRMT_00094                 10                  2            10   \n",
       "PRMT_00103                 10                  6            10   \n",
       "PRMT_00108                 10                  0            10   \n",
       "PRMT_00121                 10                  0            10   \n",
       "PRMT_00156                 10                  4            10   \n",
       "PRMT_00167                 10                  0            10   \n",
       "PRMT_00177                 10                  4            10   \n",
       "PRMT_00183                 10                  3            10   \n",
       "PRMT_00195                 10                  1            10   \n",
       "PRMT_00207                 10                  6            10   \n",
       "PRMT_00214                 10                  2            10   \n",
       "PRMT_00220                 10                  0            10   \n",
       "PRMT_00221                 10                 10            10   \n",
       "PRMT_00235                 10                 10            10   \n",
       "\n",
       "                                                  LLM_GEN_SQL  \\\n",
       "PROMPT_ID                                                       \n",
       "PRMT_00009  SELECT total_overdue_amount FROM (SELECT      ...   \n",
       "PRMT_00010  SELECT brand, total_invoiced_amount FROM (SELE...   \n",
       "PRMT_00011  SELECT invoice_due_amount, invoice_due_date, i...   \n",
       "PRMT_00013  SELECT invoice_aging_bucket, subsidiary_name F...   \n",
       "PRMT_00016  SELECT total_overdue_amount FROM (SELECT      ...   \n",
       "PRMT_00017  SELECT      ai.INVOICE_NUMBER,     ai.INVOICE_...   \n",
       "PRMT_00020  SELECT invoice_aging_bucket, invoice_due_amoun...   \n",
       "PRMT_00021  SELECT invoice_aging_in_days, invoice_due_amou...   \n",
       "PRMT_00027  SELECT total_payments_received FROM (SELECT   ...   \n",
       "PRMT_00030  SELECT invoice_due_amount, invoice_due_date, i...   \n",
       "PRMT_00031  SELECT      SUM(AR.CREDIT_MEMO_APPLIED_AMOUNT)...   \n",
       "PRMT_00033  SELECT arsd_ticket_number, invoice_memo FROM (...   \n",
       "PRMT_00044  SELECT invoice_due_amount, invoice_due_date, i...   \n",
       "PRMT_00045  SELECT total_payments_received FROM (WITH last...   \n",
       "PRMT_00046  SELECT invoice_due_date, invoice_number, invoi...   \n",
       "PRMT_00047  SELECT invoice_memo FROM (SELECT      ai.INVOI...   \n",
       "PRMT_00050  SELECT total_payments_received FROM (SELECT   ...   \n",
       "PRMT_00052  SELECT      SUM(AI.CREDIT_MEMO_APPLIED_AMOUNT)...   \n",
       "PRMT_00053  SELECT      SUM(ai.CREDIT_MEMO_APPLIED_AMOUNT)...   \n",
       "PRMT_00056  SELECT customer_name, invoice_due_amount, invo...   \n",
       "PRMT_00059  SELECT invoice_aging_bucket, invoice_due_amoun...   \n",
       "PRMT_00061  SELECT invoice_due_amount, invoice_due_date, i...   \n",
       "PRMT_00064  SELECT invoice_due_amount, invoice_due_date, i...   \n",
       "PRMT_00085  SELECT credit_memo_applied_amount, invoice_tra...   \n",
       "PRMT_00087  SELECT invoice_due_amount, invoice_due_date, i...   \n",
       "PRMT_00089  SELECT invoice_number, invoice_transaction_dat...   \n",
       "PRMT_00092  SELECT invoice_due_date, invoice_number, invoi...   \n",
       "PRMT_00094  SELECT credit_memo_applied_amount, invoice_due...   \n",
       "PRMT_00103  SELECT invoice_due_amount, invoice_due_date, i...   \n",
       "PRMT_00108  SELECT invoice_aging_bucket, invoice_due_amoun...   \n",
       "PRMT_00121  SELECT invoice_due_amount, invoice_due_date, i...   \n",
       "PRMT_00156  SELECT brand, customer_name, invoice_due_amoun...   \n",
       "PRMT_00167  SELECT dris_ticket_number, invoice_aging_bucke...   \n",
       "PRMT_00177  SELECT customer_name, invoice_due_amount, invo...   \n",
       "PRMT_00183  SELECT invoice_aging_in_days, invoice_due_amou...   \n",
       "PRMT_00195  SELECT invoice_aging_bucket, invoice_due_amoun...   \n",
       "PRMT_00207  SELECT customer_name, invoice_aging_bucket, in...   \n",
       "PRMT_00214  SELECT customer_name, invoice_aging_bucket, in...   \n",
       "PRMT_00220  SELECT total_invoiced_amount, total_payment_re...   \n",
       "PRMT_00221  SELECT      SUM(ai.PAYMENT_RECEIVED_AMOUNT) AS...   \n",
       "PRMT_00235  SELECT total_invoices FROM (SELECT      COUNT(...   \n",
       "\n",
       "                                                   GOLDEN_SQL  \n",
       "PROMPT_ID                                                      \n",
       "PRMT_00009  SELECT total_overdue_amount FROM (SELECT   ds....  \n",
       "PRMT_00010  SELECT brand, total_invoiced_amount FROM (SELE...  \n",
       "PRMT_00011  SELECT invoice_due_amount, invoice_due_date, i...  \n",
       "PRMT_00013  SELECT invoice_aging_bucket, subsidiary_name F...  \n",
       "PRMT_00016  SELECT total_overdue_amount FROM (WITH last_qu...  \n",
       "PRMT_00017  SELECT  ac.customer_name,    ai.INVOICE_NUMBER...  \n",
       "PRMT_00020  SELECT invoice_aging_bucket, invoice_due_amoun...  \n",
       "PRMT_00021  SELECT invoice_aging_in_days, invoice_due_amou...  \n",
       "PRMT_00027  SELECT total_payments_received FROM (SELECT SU...  \n",
       "PRMT_00030  SELECT invoice_due_amount, invoice_due_date, i...  \n",
       "PRMT_00031  WITH current_quarter AS (     SELECT          ...  \n",
       "PRMT_00033  SELECT arsd_ticket_number, invoice_memo FROM (...  \n",
       "PRMT_00044  SELECT invoice_due_amount, invoice_due_date, i...  \n",
       "PRMT_00045  SELECT total_payments_received FROM (WITH last...  \n",
       "PRMT_00046  SELECT invoice_due_date, invoice_number, invoi...  \n",
       "PRMT_00047  SELECT invoice_memo FROM (SELECT   ac.BRAND,  ...  \n",
       "PRMT_00050  SELECT total_payments_received FROM (WITH last...  \n",
       "PRMT_00052  WITH last_quarter AS (     SELECT          DAT...  \n",
       "PRMT_00053  SELECT     ac.BRAND, SUM(ai.INVOICE_MEMO) AS t...  \n",
       "PRMT_00056  SELECT customer_name, invoice_due_amount, invo...  \n",
       "PRMT_00059  SELECT invoice_aging_bucket, invoice_due_amoun...  \n",
       "PRMT_00061  SELECT invoice_due_amount, invoice_due_date, i...  \n",
       "PRMT_00064  SELECT invoice_due_amount, invoice_due_date, i...  \n",
       "PRMT_00085  SELECT credit_memo_applied_amount, invoice_tra...  \n",
       "PRMT_00087  SELECT invoice_due_amount, invoice_due_date, i...  \n",
       "PRMT_00089  SELECT invoice_number, invoice_transaction_dat...  \n",
       "PRMT_00092  SELECT invoice_due_date, invoice_number, invoi...  \n",
       "PRMT_00094  SELECT credit_memo_applied_amount, invoice_due...  \n",
       "PRMT_00103  SELECT invoice_due_amount, invoice_due_date, i...  \n",
       "PRMT_00108  SELECT invoice_aging_bucket, invoice_due_amoun...  \n",
       "PRMT_00121  SELECT invoice_due_amount, invoice_due_date, i...  \n",
       "PRMT_00156  SELECT brand, customer_name, invoice_due_amoun...  \n",
       "PRMT_00167  SELECT dris_ticket_number, invoice_aging_bucke...  \n",
       "PRMT_00177  SELECT customer_name, invoice_due_amount, invo...  \n",
       "PRMT_00183  SELECT invoice_aging_in_days, invoice_due_amou...  \n",
       "PRMT_00195  SELECT invoice_aging_bucket, invoice_due_amoun...  \n",
       "PRMT_00207  SELECT customer_name, invoice_aging_bucket, in...  \n",
       "PRMT_00214  SELECT customer_name, invoice_aging_bucket, in...  \n",
       "PRMT_00220  SELECT total_invoiced_amount, total_payment_re...  \n",
       "PRMT_00221  SELECT      SUM(ai.INVOICED_AMOUNT) AS total_i...  \n",
       "PRMT_00235  SELECT total_invoices FROM (SELECT      COUNT(...  "
      ]
     },
     "execution_count": 28,
     "metadata": {},
     "output_type": "execute_result"
    }
   ],
   "source": [
    "groupd =results.groupby('PROMPT_ID')[['ROW_COUNT_MATCHED', 'COL_COUNT_MATCHED', 'DATA_MATCHED']].sum().reset_index()\n",
    "\n",
    "groupd.index = groupd['PROMPT_ID']\n",
    "groupd.drop(columns=['PROMPT_ID'], inplace=True)\n",
    "groupd\n",
    "\n",
    "\n",
    "sql_outputs = results.groupby('PROMPT_ID')[[ \"LLM_GEN_SQL\", \"GOLDEN_SQL\", \"DATA_MATCHED\"]].apply(lambda x: x[x['DATA_MATCHED'] != iteration_count].head(1)).reset_index()\n",
    "sql_outputs.index = sql_outputs['PROMPT_ID']\n",
    "sql_outputs.drop(columns=['PROMPT_ID'], inplace=True)\n",
    "sql_outputs\n",
    "\n",
    "\n",
    "groupd = groupd.merge(sql_outputs, on='PROMPT_ID', how='left')\n",
    "groupd.drop(columns=['DATA_MATCHED_y'], inplace=True)\n",
    "groupd.rename(columns={'DATA_MATCHED_x': 'DATA_MATCHED'}, inplace=True)\n",
    "groupd.drop(columns='level_1', inplace=True)\n",
    "groupd"
   ]
  },
  {
   "cell_type": "code",
   "execution_count": 35,
   "metadata": {},
   "outputs": [
    {
     "data": {
      "application/vnd.plotly.v1+json": {
       "config": {
        "plotlyServerURL": "https://plot.ly"
       },
       "data": [
        {
         "alignmentgroup": "True",
         "customdata": [
          [
           "SELECT invoice_aging_bucket, subsidiary_name FROM (SELECT      s.SUBSIDIARY_NAME,     i.INVOICE_AGING_BUCKET,     i.INVOICE_AGING_IN_DAYS,     i.INVOICE_TRANSACTION_DATE FROM      FINCOPILOT_CDM.ACCOUNTS_RECEIVABLE.AR_INVOICE i JOIN      FINCOPILOT_CDM.COMMON.DIM_SUBSIDIARY s ON      i.SUBSIDIARY_FK = s.SUBSIDIARY_PK WHERE      s.SUBSIDIARY_PK IN ('c4ca4238a0b923820dcc509a6f75849b', 'eccbc87e4b5ce2fe28308fd9f2a7baf3')     AND i.INVOICE_TRANSACTION_DATE BETWEEN DATE_TRUNC('YEAR', DATEADD(YEAR, -1, CURRENT_DATE())) AND DATE_TRUNC('YEAR', CURRENT_DATE()) ORDER BY      i.INVOICE_TRANSACTION_DATE DESC) ORDER BY invoice_aging_bucket, subsidiary_name LIMIT 100"
          ],
          [
           "SELECT      ai.INVOICE_NUMBER,     ai.INVOICE_TRANSACTION_DATE,     ai.INVOICED_AMOUNT,     ai.INVOICE_DUE_DATE,     ai.IS_INVOICE_PAID,     ai.INVOICE_DUE_AMOUNT,     ai.PAYMENT_RECEIVED_AMOUNT FROM      FINCOPILOT_CDM.ACCOUNTS_RECEIVABLE.AR_INVOICE ai JOIN      FINCOPILOT_CDM.ACCOUNTS_RECEIVABLE.AR_CUSTOMER ac ON      ai.AR_CUSTOMER_FK = ac.AR_CUSTOMER_PK WHERE      ac.AR_CUSTOMER_PK = '80ac5986c2b31eee759c04efc038b1ea'     AND ai.INVOICE_TRANSACTION_DATE BETWEEN DATE_TRUNC('month', CURRENT_DATE() - INTERVAL '1' MONTH)      AND LAST_DAY(CURRENT_DATE() - INTERVAL '1' MONTH) ORDER BY      ai.INVOICE_TRANSACTION_DATE DESC LIMIT 1000;"
          ],
          [
           "SELECT invoice_due_amount, invoice_due_date, invoice_number, netsuite_invoice_transaction_id, subsidiary_name FROM (SELECT      ai.NETSUITE_INVOICE_TRANSACTION_ID,     ai.INVOICE_NUMBER,     ai.INVOICE_DUE_DATE,     ai.INVOICE_DUE_AMOUNT,     ai.INVOICE_AGING_IN_DAYS,     ds.SUBSIDIARY_NAME FROM      FINCOPILOT_CDM.ACCOUNTS_RECEIVABLE.AR_INVOICE ai JOIN      FINCOPILOT_CDM.COMMON.DIM_SUBSIDIARY ds ON      ai.SUBSIDIARY_FK = ds.SUBSIDIARY_PK WHERE      ds.SUBSIDIARY_PK IN ('c4ca4238a0b923820dcc509a6f75849b', 'eccbc87e4b5ce2fe28308fd9f2a7baf3')     AND ai.IS_INVOICE_DUE = TRUE     AND ai.INVOICE_TRANSACTION_DATE >= DATEADD(MONTH, -6, CURRENT_DATE()) ORDER BY      ai.INVOICE_DUE_DATE DESC) ORDER BY invoice_due_amount, invoice_due_date, invoice_number, netsuite_invoice_transaction_id, subsidiary_name LIMIT 100"
          ],
          [
           "SELECT invoice_due_amount, invoice_due_date, invoice_number, payment_received_amount FROM (SELECT      ai.INVOICE_NUMBER,     ai.INVOICE_DUE_DATE,     ai.PAYMENT_RECEIVED_AMOUNT,     ai.INVOICE_DUE_AMOUNT,     ai.INVOICE_AGING_IN_DAYS FROM      FINCOPILOT_CDM.ACCOUNTS_RECEIVABLE.AR_INVOICE ai JOIN      FINCOPILOT_CDM.COMMON.DIM_SUBSIDIARY ds ON ai.SUBSIDIARY_FK = ds.SUBSIDIARY_PK WHERE      ds.SUBSIDIARY_PK IN ('c4ca4238a0b923820dcc509a6f75849b', 'eccbc87e4b5ce2fe28308fd9f2a7baf3')     AND ai.IS_INVOICE_DUE = TRUE     AND ai.INVOICE_TRANSACTION_DATE >= DATEADD(MONTH, -3, CURRENT_DATE()) ORDER BY      ai.INVOICE_DUE_DATE DESC) ORDER BY invoice_due_amount, invoice_due_date, invoice_number, payment_received_amount LIMIT 100"
          ],
          [
           "SELECT customer_name, invoice_due_amount, invoice_due_date, invoice_number, invoice_transaction_date, invoiced_amount, netsuite_invoice_transaction_id FROM (SELECT      ai.NETSUITE_INVOICE_TRANSACTION_ID,     ai.INVOICE_NUMBER,     ai.INVOICE_TRANSACTION_DATE,     ai.INVOICE_DUE_DATE,     ai.INVOICED_AMOUNT,     ai.INVOICE_DUE_AMOUNT,     ai.IS_INVOICE_PAID,     ac.CUSTOMER_NAME,     ds.SUBSIDIARY_NAME FROM      FINCOPILOT_CDM.ACCOUNTS_RECEIVABLE.AR_INVOICE ai JOIN      FINCOPILOT_CDM.ACCOUNTS_RECEIVABLE.AR_CUSTOMER ac     ON ai.AR_CUSTOMER_FK = ac.AR_CUSTOMER_PK JOIN      FINCOPILOT_CDM.COMMON.DIM_SUBSIDIARY ds     ON ai.SUBSIDIARY_FK = ds.SUBSIDIARY_PK WHERE      ac.AR_CUSTOMER_PK = '80ac5986c2b31eee759c04efc038b1ea'     AND ds.SUBSIDIARY_PK IN ('c4ca4238a0b923820dcc509a6f75849b', 'eccbc87e4b5ce2fe28308fd9f2a7baf3')     AND ai.IS_INVOICE_PAID = FALSE     AND ai.INVOICE_TRANSACTION_DATE BETWEEN DATE_TRUNC('YEAR', DATEADD(YEAR, -1, CURRENT_DATE())) AND DATE_TRUNC('YEAR', CURRENT_DATE()) ORDER BY      ai.INVOICE_TRANSACTION_DATE DESC) ORDER BY customer_name, invoice_due_amount, invoice_due_date, invoice_number, invoice_transaction_date, invoiced_amount, netsuite_invoice_transaction_id LIMIT 100"
          ]
         ],
         "hovertemplate": "PROMPT_ID=%{x}<br>DATA_MATCHED=%{y}<br>LLM_GEN_SQL=%{customdata[0]}<extra></extra>",
         "legendgroup": "",
         "marker": {
          "color": "#636efa",
          "pattern": {
           "shape": ""
          }
         },
         "name": "",
         "offsetgroup": "",
         "orientation": "v",
         "showlegend": false,
         "textposition": "auto",
         "type": "bar",
         "x": [
          "PRMT_00013",
          "PRMT_00017",
          "PRMT_00030",
          "PRMT_00044",
          "PRMT_00056"
         ],
         "xaxis": "x",
         "y": [
          1,
          9,
          1,
          0,
          6
         ],
         "yaxis": "y"
        }
       ],
       "layout": {
        "barmode": "relative",
        "legend": {
         "tracegroupgap": 0
        },
        "template": {
         "data": {
          "bar": [
           {
            "error_x": {
             "color": "#2a3f5f"
            },
            "error_y": {
             "color": "#2a3f5f"
            },
            "marker": {
             "line": {
              "color": "#E5ECF6",
              "width": 0.5
             },
             "pattern": {
              "fillmode": "overlay",
              "size": 10,
              "solidity": 0.2
             }
            },
            "type": "bar"
           }
          ],
          "barpolar": [
           {
            "marker": {
             "line": {
              "color": "#E5ECF6",
              "width": 0.5
             },
             "pattern": {
              "fillmode": "overlay",
              "size": 10,
              "solidity": 0.2
             }
            },
            "type": "barpolar"
           }
          ],
          "carpet": [
           {
            "aaxis": {
             "endlinecolor": "#2a3f5f",
             "gridcolor": "white",
             "linecolor": "white",
             "minorgridcolor": "white",
             "startlinecolor": "#2a3f5f"
            },
            "baxis": {
             "endlinecolor": "#2a3f5f",
             "gridcolor": "white",
             "linecolor": "white",
             "minorgridcolor": "white",
             "startlinecolor": "#2a3f5f"
            },
            "type": "carpet"
           }
          ],
          "choropleth": [
           {
            "colorbar": {
             "outlinewidth": 0,
             "ticks": ""
            },
            "type": "choropleth"
           }
          ],
          "contour": [
           {
            "colorbar": {
             "outlinewidth": 0,
             "ticks": ""
            },
            "colorscale": [
             [
              0,
              "#0d0887"
             ],
             [
              0.1111111111111111,
              "#46039f"
             ],
             [
              0.2222222222222222,
              "#7201a8"
             ],
             [
              0.3333333333333333,
              "#9c179e"
             ],
             [
              0.4444444444444444,
              "#bd3786"
             ],
             [
              0.5555555555555556,
              "#d8576b"
             ],
             [
              0.6666666666666666,
              "#ed7953"
             ],
             [
              0.7777777777777778,
              "#fb9f3a"
             ],
             [
              0.8888888888888888,
              "#fdca26"
             ],
             [
              1,
              "#f0f921"
             ]
            ],
            "type": "contour"
           }
          ],
          "contourcarpet": [
           {
            "colorbar": {
             "outlinewidth": 0,
             "ticks": ""
            },
            "type": "contourcarpet"
           }
          ],
          "heatmap": [
           {
            "colorbar": {
             "outlinewidth": 0,
             "ticks": ""
            },
            "colorscale": [
             [
              0,
              "#0d0887"
             ],
             [
              0.1111111111111111,
              "#46039f"
             ],
             [
              0.2222222222222222,
              "#7201a8"
             ],
             [
              0.3333333333333333,
              "#9c179e"
             ],
             [
              0.4444444444444444,
              "#bd3786"
             ],
             [
              0.5555555555555556,
              "#d8576b"
             ],
             [
              0.6666666666666666,
              "#ed7953"
             ],
             [
              0.7777777777777778,
              "#fb9f3a"
             ],
             [
              0.8888888888888888,
              "#fdca26"
             ],
             [
              1,
              "#f0f921"
             ]
            ],
            "type": "heatmap"
           }
          ],
          "heatmapgl": [
           {
            "colorbar": {
             "outlinewidth": 0,
             "ticks": ""
            },
            "colorscale": [
             [
              0,
              "#0d0887"
             ],
             [
              0.1111111111111111,
              "#46039f"
             ],
             [
              0.2222222222222222,
              "#7201a8"
             ],
             [
              0.3333333333333333,
              "#9c179e"
             ],
             [
              0.4444444444444444,
              "#bd3786"
             ],
             [
              0.5555555555555556,
              "#d8576b"
             ],
             [
              0.6666666666666666,
              "#ed7953"
             ],
             [
              0.7777777777777778,
              "#fb9f3a"
             ],
             [
              0.8888888888888888,
              "#fdca26"
             ],
             [
              1,
              "#f0f921"
             ]
            ],
            "type": "heatmapgl"
           }
          ],
          "histogram": [
           {
            "marker": {
             "pattern": {
              "fillmode": "overlay",
              "size": 10,
              "solidity": 0.2
             }
            },
            "type": "histogram"
           }
          ],
          "histogram2d": [
           {
            "colorbar": {
             "outlinewidth": 0,
             "ticks": ""
            },
            "colorscale": [
             [
              0,
              "#0d0887"
             ],
             [
              0.1111111111111111,
              "#46039f"
             ],
             [
              0.2222222222222222,
              "#7201a8"
             ],
             [
              0.3333333333333333,
              "#9c179e"
             ],
             [
              0.4444444444444444,
              "#bd3786"
             ],
             [
              0.5555555555555556,
              "#d8576b"
             ],
             [
              0.6666666666666666,
              "#ed7953"
             ],
             [
              0.7777777777777778,
              "#fb9f3a"
             ],
             [
              0.8888888888888888,
              "#fdca26"
             ],
             [
              1,
              "#f0f921"
             ]
            ],
            "type": "histogram2d"
           }
          ],
          "histogram2dcontour": [
           {
            "colorbar": {
             "outlinewidth": 0,
             "ticks": ""
            },
            "colorscale": [
             [
              0,
              "#0d0887"
             ],
             [
              0.1111111111111111,
              "#46039f"
             ],
             [
              0.2222222222222222,
              "#7201a8"
             ],
             [
              0.3333333333333333,
              "#9c179e"
             ],
             [
              0.4444444444444444,
              "#bd3786"
             ],
             [
              0.5555555555555556,
              "#d8576b"
             ],
             [
              0.6666666666666666,
              "#ed7953"
             ],
             [
              0.7777777777777778,
              "#fb9f3a"
             ],
             [
              0.8888888888888888,
              "#fdca26"
             ],
             [
              1,
              "#f0f921"
             ]
            ],
            "type": "histogram2dcontour"
           }
          ],
          "mesh3d": [
           {
            "colorbar": {
             "outlinewidth": 0,
             "ticks": ""
            },
            "type": "mesh3d"
           }
          ],
          "parcoords": [
           {
            "line": {
             "colorbar": {
              "outlinewidth": 0,
              "ticks": ""
             }
            },
            "type": "parcoords"
           }
          ],
          "pie": [
           {
            "automargin": true,
            "type": "pie"
           }
          ],
          "scatter": [
           {
            "fillpattern": {
             "fillmode": "overlay",
             "size": 10,
             "solidity": 0.2
            },
            "type": "scatter"
           }
          ],
          "scatter3d": [
           {
            "line": {
             "colorbar": {
              "outlinewidth": 0,
              "ticks": ""
             }
            },
            "marker": {
             "colorbar": {
              "outlinewidth": 0,
              "ticks": ""
             }
            },
            "type": "scatter3d"
           }
          ],
          "scattercarpet": [
           {
            "marker": {
             "colorbar": {
              "outlinewidth": 0,
              "ticks": ""
             }
            },
            "type": "scattercarpet"
           }
          ],
          "scattergeo": [
           {
            "marker": {
             "colorbar": {
              "outlinewidth": 0,
              "ticks": ""
             }
            },
            "type": "scattergeo"
           }
          ],
          "scattergl": [
           {
            "marker": {
             "colorbar": {
              "outlinewidth": 0,
              "ticks": ""
             }
            },
            "type": "scattergl"
           }
          ],
          "scattermapbox": [
           {
            "marker": {
             "colorbar": {
              "outlinewidth": 0,
              "ticks": ""
             }
            },
            "type": "scattermapbox"
           }
          ],
          "scatterpolar": [
           {
            "marker": {
             "colorbar": {
              "outlinewidth": 0,
              "ticks": ""
             }
            },
            "type": "scatterpolar"
           }
          ],
          "scatterpolargl": [
           {
            "marker": {
             "colorbar": {
              "outlinewidth": 0,
              "ticks": ""
             }
            },
            "type": "scatterpolargl"
           }
          ],
          "scatterternary": [
           {
            "marker": {
             "colorbar": {
              "outlinewidth": 0,
              "ticks": ""
             }
            },
            "type": "scatterternary"
           }
          ],
          "surface": [
           {
            "colorbar": {
             "outlinewidth": 0,
             "ticks": ""
            },
            "colorscale": [
             [
              0,
              "#0d0887"
             ],
             [
              0.1111111111111111,
              "#46039f"
             ],
             [
              0.2222222222222222,
              "#7201a8"
             ],
             [
              0.3333333333333333,
              "#9c179e"
             ],
             [
              0.4444444444444444,
              "#bd3786"
             ],
             [
              0.5555555555555556,
              "#d8576b"
             ],
             [
              0.6666666666666666,
              "#ed7953"
             ],
             [
              0.7777777777777778,
              "#fb9f3a"
             ],
             [
              0.8888888888888888,
              "#fdca26"
             ],
             [
              1,
              "#f0f921"
             ]
            ],
            "type": "surface"
           }
          ],
          "table": [
           {
            "cells": {
             "fill": {
              "color": "#EBF0F8"
             },
             "line": {
              "color": "white"
             }
            },
            "header": {
             "fill": {
              "color": "#C8D4E3"
             },
             "line": {
              "color": "white"
             }
            },
            "type": "table"
           }
          ]
         },
         "layout": {
          "annotationdefaults": {
           "arrowcolor": "#2a3f5f",
           "arrowhead": 0,
           "arrowwidth": 1
          },
          "autotypenumbers": "strict",
          "coloraxis": {
           "colorbar": {
            "outlinewidth": 0,
            "ticks": ""
           }
          },
          "colorscale": {
           "diverging": [
            [
             0,
             "#8e0152"
            ],
            [
             0.1,
             "#c51b7d"
            ],
            [
             0.2,
             "#de77ae"
            ],
            [
             0.3,
             "#f1b6da"
            ],
            [
             0.4,
             "#fde0ef"
            ],
            [
             0.5,
             "#f7f7f7"
            ],
            [
             0.6,
             "#e6f5d0"
            ],
            [
             0.7,
             "#b8e186"
            ],
            [
             0.8,
             "#7fbc41"
            ],
            [
             0.9,
             "#4d9221"
            ],
            [
             1,
             "#276419"
            ]
           ],
           "sequential": [
            [
             0,
             "#0d0887"
            ],
            [
             0.1111111111111111,
             "#46039f"
            ],
            [
             0.2222222222222222,
             "#7201a8"
            ],
            [
             0.3333333333333333,
             "#9c179e"
            ],
            [
             0.4444444444444444,
             "#bd3786"
            ],
            [
             0.5555555555555556,
             "#d8576b"
            ],
            [
             0.6666666666666666,
             "#ed7953"
            ],
            [
             0.7777777777777778,
             "#fb9f3a"
            ],
            [
             0.8888888888888888,
             "#fdca26"
            ],
            [
             1,
             "#f0f921"
            ]
           ],
           "sequentialminus": [
            [
             0,
             "#0d0887"
            ],
            [
             0.1111111111111111,
             "#46039f"
            ],
            [
             0.2222222222222222,
             "#7201a8"
            ],
            [
             0.3333333333333333,
             "#9c179e"
            ],
            [
             0.4444444444444444,
             "#bd3786"
            ],
            [
             0.5555555555555556,
             "#d8576b"
            ],
            [
             0.6666666666666666,
             "#ed7953"
            ],
            [
             0.7777777777777778,
             "#fb9f3a"
            ],
            [
             0.8888888888888888,
             "#fdca26"
            ],
            [
             1,
             "#f0f921"
            ]
           ]
          },
          "colorway": [
           "#636efa",
           "#EF553B",
           "#00cc96",
           "#ab63fa",
           "#FFA15A",
           "#19d3f3",
           "#FF6692",
           "#B6E880",
           "#FF97FF",
           "#FECB52"
          ],
          "font": {
           "color": "#2a3f5f"
          },
          "geo": {
           "bgcolor": "white",
           "lakecolor": "white",
           "landcolor": "#E5ECF6",
           "showlakes": true,
           "showland": true,
           "subunitcolor": "white"
          },
          "hoverlabel": {
           "align": "left"
          },
          "hovermode": "closest",
          "mapbox": {
           "style": "light"
          },
          "paper_bgcolor": "white",
          "plot_bgcolor": "#E5ECF6",
          "polar": {
           "angularaxis": {
            "gridcolor": "white",
            "linecolor": "white",
            "ticks": ""
           },
           "bgcolor": "#E5ECF6",
           "radialaxis": {
            "gridcolor": "white",
            "linecolor": "white",
            "ticks": ""
           }
          },
          "scene": {
           "xaxis": {
            "backgroundcolor": "#E5ECF6",
            "gridcolor": "white",
            "gridwidth": 2,
            "linecolor": "white",
            "showbackground": true,
            "ticks": "",
            "zerolinecolor": "white"
           },
           "yaxis": {
            "backgroundcolor": "#E5ECF6",
            "gridcolor": "white",
            "gridwidth": 2,
            "linecolor": "white",
            "showbackground": true,
            "ticks": "",
            "zerolinecolor": "white"
           },
           "zaxis": {
            "backgroundcolor": "#E5ECF6",
            "gridcolor": "white",
            "gridwidth": 2,
            "linecolor": "white",
            "showbackground": true,
            "ticks": "",
            "zerolinecolor": "white"
           }
          },
          "shapedefaults": {
           "line": {
            "color": "#2a3f5f"
           }
          },
          "ternary": {
           "aaxis": {
            "gridcolor": "white",
            "linecolor": "white",
            "ticks": ""
           },
           "baxis": {
            "gridcolor": "white",
            "linecolor": "white",
            "ticks": ""
           },
           "bgcolor": "#E5ECF6",
           "caxis": {
            "gridcolor": "white",
            "linecolor": "white",
            "ticks": ""
           }
          },
          "title": {
           "x": 0.05
          },
          "xaxis": {
           "automargin": true,
           "gridcolor": "white",
           "linecolor": "white",
           "ticks": "",
           "title": {
            "standoff": 15
           },
           "zerolinecolor": "white",
           "zerolinewidth": 2
          },
          "yaxis": {
           "automargin": true,
           "gridcolor": "white",
           "linecolor": "white",
           "ticks": "",
           "title": {
            "standoff": 15
           },
           "zerolinecolor": "white",
           "zerolinewidth": 2
          }
         }
        },
        "title": {
         "text": "Data Matched"
        },
        "xaxis": {
         "anchor": "y",
         "domain": [
          0,
          1
         ],
         "title": {
          "text": "PROMPT_ID"
         }
        },
        "yaxis": {
         "anchor": "x",
         "domain": [
          0,
          1
         ],
         "title": {
          "text": "DATA_MATCHED"
         }
        }
       }
      }
     },
     "metadata": {},
     "output_type": "display_data"
    }
   ],
   "source": [
    "delinquents = groupd[groupd['DATA_MATCHED'] != 10]\n",
    "delinquents = delinquents.merge(prompts, on='PROMPT_ID', how='left')\n",
    "fig = px.bar(delinquents, x=delinquents.index, y='DATA_MATCHED',title='Data Matched', hover_data=['LLM_GEN_SQL'])\n",
    "\n",
    "fig"
   ]
  },
  {
   "cell_type": "code",
   "execution_count": 34,
   "metadata": {},
   "outputs": [],
   "source": [
    "delinquents.to_csv('delinquent_prompts.csv')"
   ]
  },
  {
   "cell_type": "code",
   "execution_count": 38,
   "metadata": {},
   "outputs": [
    {
     "data": {
      "text/html": [
       "<div>\n",
       "<style scoped>\n",
       "    .dataframe tbody tr th:only-of-type {\n",
       "        vertical-align: middle;\n",
       "    }\n",
       "\n",
       "    .dataframe tbody tr th {\n",
       "        vertical-align: top;\n",
       "    }\n",
       "\n",
       "    .dataframe thead th {\n",
       "        text-align: right;\n",
       "    }\n",
       "</style>\n",
       "<table border=\"1\" class=\"dataframe\">\n",
       "  <thead>\n",
       "    <tr style=\"text-align: right;\">\n",
       "      <th></th>\n",
       "      <th>PROMPT_TEMPLATE_ID</th>\n",
       "      <th>PROMPT</th>\n",
       "    </tr>\n",
       "    <tr>\n",
       "      <th>PROMPT_ID</th>\n",
       "      <th></th>\n",
       "      <th></th>\n",
       "    </tr>\n",
       "  </thead>\n",
       "  <tbody>\n",
       "    <tr>\n",
       "      <th>PRMT_00098</th>\n",
       "      <td>98</td>\n",
       "      <td>list all open invoices for dris ticket# 1054</td>\n",
       "    </tr>\n",
       "  </tbody>\n",
       "</table>\n",
       "</div>"
      ],
      "text/plain": [
       "            PROMPT_TEMPLATE_ID                                        PROMPT\n",
       "PROMPT_ID                                                                   \n",
       "PRMT_00098                  98  list all open invoices for dris ticket# 1054"
      ]
     },
     "execution_count": 38,
     "metadata": {},
     "output_type": "execute_result"
    }
   ],
   "source": [
    "prompts[prompts.index == 'PRMT_00098']"
   ]
  },
  {
   "cell_type": "code",
   "execution_count": null,
   "metadata": {},
   "outputs": [],
   "source": []
  }
 ],
 "metadata": {
  "kernelspec": {
   "display_name": "sql-generator-testing",
   "language": "python",
   "name": "python3"
  },
  "language_info": {
   "codemirror_mode": {
    "name": "ipython",
    "version": 3
   },
   "file_extension": ".py",
   "mimetype": "text/x-python",
   "name": "python",
   "nbconvert_exporter": "python",
   "pygments_lexer": "ipython3",
   "version": "3.10.14"
  }
 },
 "nbformat": 4,
 "nbformat_minor": 2
}
